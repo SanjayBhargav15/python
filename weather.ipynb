{
  "cells": [
    {
      "cell_type": "code",
      "execution_count": null,
      "metadata": {
        "id": "3vYMTfur1KMY"
      },
      "outputs": [],
      "source": [
        "import requests\n",
        "import pandas as pd\n",
        "import json\n",
        "import ast"
      ]
    },
    {
      "cell_type": "code",
      "execution_count": null,
      "metadata": {
        "id": "EbrrZcfP97bp"
      },
      "outputs": [],
      "source": [
        "# API key from  --- >   OpenWeatherMap  < ---\n",
        "api_key = '9cfa51e5445a0c972712990becf4c6df'\n",
        "\n",
        "# Set the base URL for the OpenWeatherMap API\n",
        "base_url = 'http://api.openweathermap.org/data/2.5/weather?'\n",
        "\n",
        "cities = ['hyderabad', 'delhi', 'mumbai']\n",
        "\n",
        "# Create an empty list to store the data for each citys\n",
        "data = []\n",
        "\n",
        "# Loop through the list of cities\n",
        "for city in cities:\n",
        "    # Create the URL for the API request\n",
        "    url = f\"{base_url}q={city}&appid={api_key}\"\n",
        "    response = requests.get(url)              #  Make the API requests\n",
        "    data.append(response.json())              #  append data\n",
        "    df = pd.DataFrame.from_dict(data)         #  it will create dataframe from dict by column\n",
        "    cs = df.to_csv('weather_data.csv')       #  convert df -- > csv"
      ]
    },
    {
      "cell_type": "markdown",
      "metadata": {
        "id": "-YAM0DIlcimW"
      },
      "source": [
        "#What is the average temperature of all the cities in the dataset?"
      ]
    },
    {
      "cell_type": "code",
      "execution_count": null,
      "metadata": {
        "colab": {
          "base_uri": "https://localhost:8080/"
        },
        "id": "-TEFJDnhW55S",
        "outputId": "623e8a64-79b2-4d66-fb4e-02a29b3aa02c"
      },
      "outputs": [
        {
          "name": "stdout",
          "output_type": "stream",
          "text": [
            "The average temperature of all the cities is: 303.8833333333333\n"
          ]
        }
      ],
      "source": [
        "import ast\n",
        "df = pd.read_csv('weather_data.csv')\n",
        "df['main'] = df['main'].apply(ast.literal_eval)           # Convert the 'main' column from string to dictionary\n",
        "df['temp'] = df['main'].apply(lambda x: x['temp'])        # Extract the temperature values from the 'main' column\n",
        "avg_temp = df['temp'].mean()                              # Calculate the average temperature\n",
        "print(f'The average temperature of all the cities is: {avg_temp}')"
      ]
    },
    {
      "cell_type": "markdown",
      "metadata": {
        "id": "EAbwexq4dDUG"
      },
      "source": [
        "#Which city has the highest humidity?"
      ]
    },
    {
      "cell_type": "code",
      "execution_count": null,
      "metadata": {
        "colab": {
          "base_uri": "https://localhost:8080/"
        },
        "id": "nXjloyApZVNb",
        "outputId": "8b5cbca3-0cb0-465e-9731-cc7bc2d6011f"
      },
      "outputs": [
        {
          "name": "stdout",
          "output_type": "stream",
          "text": [
            "The city with the highest humidity is: Mumbai\n"
          ]
        }
      ],
      "source": [
        "df = pd.read_csv('weather_data.csv')\n",
        "df['main'] = df['main'].apply(ast.literal_eval)\n",
        "df['humidity'] = df['main'].apply(lambda x: x['humidity'])\n",
        "max_humidity_city = df.loc[df['humidity'].idxmax()]['name']\n",
        "print(f'The city with the highest humidity is: {max_humidity_city}')"
      ]
    },
    {
      "cell_type": "markdown",
      "metadata": {
        "id": "C4ka5PSWe0MW"
      },
      "source": [
        "#Which city has the lowest pressure?"
      ]
    },
    {
      "cell_type": "code",
      "execution_count": null,
      "metadata": {
        "colab": {
          "base_uri": "https://localhost:8080/"
        },
        "id": "lCjTKFRcdnkI",
        "outputId": "737cb399-2640-4c65-df37-dfd315001785"
      },
      "outputs": [
        {
          "name": "stdout",
          "output_type": "stream",
          "text": [
            "The city with the lowest pressure is: Hyderabad\n"
          ]
        }
      ],
      "source": [
        "df = pd.read_csv('weather_data.csv')\n",
        "df['main'] = df['main'].apply(ast.literal_eval)\n",
        "df['pressure'] = df['main'].apply(lambda x: x['pressure'])\n",
        "min_pressure_city = df.loc[df['pressure'].idxmin()]['name']\n",
        "print(f'The city with the lowest pressure is: {min_pressure_city}')"
      ]
    },
    {
      "cell_type": "markdown",
      "metadata": {
        "id": "le6Iu768e8cO"
      },
      "source": [
        "#What is the average wind speed of all the cities in the dataset?"
      ]
    },
    {
      "cell_type": "code",
      "execution_count": null,
      "metadata": {
        "colab": {
          "base_uri": "https://localhost:8080/"
        },
        "id": "jTR5fXrzeyTx",
        "outputId": "f029e052-bff2-41b3-cc82-f7d0b4f9aac5"
      },
      "outputs": [
        {
          "name": "stdout",
          "output_type": "stream",
          "text": [
            "The average wind speed of all the cities is: 1.9033333333333333\n"
          ]
        }
      ],
      "source": [
        "df = pd.read_csv('weather_data.csv')\n",
        "df['wind'] = df['wind'].apply(ast.literal_eval)\n",
        "df['wind_speed'] = df['wind'].apply(lambda x: x['speed'])\n",
        "avg_wind_speed = df['wind_speed'].mean()\n",
        "print(f'The average wind speed of all the cities is: {avg_wind_speed}')"
      ]
    },
    {
      "cell_type": "markdown",
      "metadata": {
        "id": "noElRzwffg6m"
      },
      "source": [
        "#How many cities have a visibility greater than 5000?\n"
      ]
    },
    {
      "cell_type": "code",
      "execution_count": null,
      "metadata": {
        "colab": {
          "base_uri": "https://localhost:8080/"
        },
        "id": "QJPwb5D6faO8",
        "outputId": "2f1d6cb6-433f-4dcf-e5cd-6969390fed66"
      },
      "outputs": [
        {
          "name": "stdout",
          "output_type": "stream",
          "text": [
            "There are 1 cities with a visibility greater than 5000\n"
          ]
        }
      ],
      "source": [
        "df = pd.read_csv('weather_data.csv')\n",
        "num_cities = (df['visibility'] > 5000).sum()\n",
        "print(f'There are {num_cities} cities with a visibility greater than 5000')"
      ]
    },
    {
      "cell_type": "markdown",
      "metadata": {
        "id": "XMaFALgaflFW"
      },
      "source": [
        "#Which city has the highest temperature?\n"
      ]
    },
    {
      "cell_type": "code",
      "execution_count": null,
      "metadata": {
        "colab": {
          "base_uri": "https://localhost:8080/"
        },
        "id": "xhzDo4G7fsD2",
        "outputId": "6257b314-51e5-498c-d421-2fb1f65ebb29"
      },
      "outputs": [
        {
          "name": "stdout",
          "output_type": "stream",
          "text": [
            "The city with the highest temperature is: Hyderabad\n"
          ]
        }
      ],
      "source": [
        "df = pd.read_csv('weather_data.csv')\n",
        "df['main'] = df['main'].apply(ast.literal_eval)\n",
        "df['temp'] = df['main'].apply(lambda x: x['temp'])\n",
        "max_temp_city = df.loc[df['temp'].idxmax()]['name']\n",
        "print(f'The city with the highest temperature is: {max_temp_city}')"
      ]
    },
    {
      "cell_type": "markdown",
      "metadata": {
        "id": "ApYNi_XAgK6u"
      },
      "source": [
        "#Which city has the lowest temperature?"
      ]
    },
    {
      "cell_type": "code",
      "execution_count": null,
      "metadata": {
        "colab": {
          "base_uri": "https://localhost:8080/"
        },
        "id": "r0o10vCChQwp",
        "outputId": "e0a5cfbe-d204-46ae-ed1c-6574fbe82306"
      },
      "outputs": [
        {
          "name": "stdout",
          "output_type": "stream",
          "text": [
            "The city with the lowest temperature is: Mumbai\n"
          ]
        }
      ],
      "source": [
        "df = pd.read_csv('weather_data.csv')\n",
        "df['main'] = df['main'].apply(ast.literal_eval)\n",
        "df['temp'] = df['main'].apply(lambda x: x['temp'])\n",
        "min_temp_city = df.loc[df['temp'].idxmin()]['name']\n",
        "print(f'The city with the lowest temperature is: {min_temp_city}')"
      ]
    },
    {
      "cell_type": "markdown",
      "metadata": {
        "id": "0dCq81UvfsfG"
      },
      "source": [
        "#What is the average humidity of all the cities in the dataset?\n"
      ]
    },
    {
      "cell_type": "code",
      "execution_count": null,
      "metadata": {
        "colab": {
          "base_uri": "https://localhost:8080/"
        },
        "id": "FSr7prZKfyco",
        "outputId": "d2bd7f4b-ac3d-43cd-84f1-ffd7ce58bf23"
      },
      "outputs": [
        {
          "name": "stdout",
          "output_type": "stream",
          "text": [
            "The average humidity of all the cities is: 41.333333333333336\n"
          ]
        }
      ],
      "source": [
        "df = pd.read_csv('weather_data.csv')\n",
        "df['main'] = df['main'].apply(ast.literal_eval)\n",
        "df['humidity'] = df['main'].apply(lambda x: x['humidity'])\n",
        "avg_humidity = df['humidity'].mean()\n",
        "print(f'The average humidity of all the cities is: {avg_humidity}')"
      ]
    },
    {
      "cell_type": "markdown",
      "metadata": {
        "id": "gfZy3pZ0fy7m"
      },
      "source": [
        "#How many cities have a wind speed greater than 5?"
      ]
    },
    {
      "cell_type": "code",
      "execution_count": null,
      "metadata": {
        "colab": {
          "base_uri": "https://localhost:8080/"
        },
        "id": "oWQDK7ORf2Wl",
        "outputId": "562a4f8b-81af-4f80-c600-1f1a5ae36381"
      },
      "outputs": [
        {
          "name": "stdout",
          "output_type": "stream",
          "text": [
            "There are 0 cities with a wind speed greater than 5\n"
          ]
        }
      ],
      "source": [
        "df = pd.read_csv('weather_data.csv')\n",
        "df['wind'] = df['wind'].apply(ast.literal_eval)\n",
        "df['wind_speed'] = df['wind'].apply(lambda x: x['speed'])\n",
        "num_cities = (df['wind_speed'] > 5).sum()\n",
        "print(f'There are {num_cities} cities with a wind speed greater than 5')"
      ]
    },
    {
      "cell_type": "markdown",
      "metadata": {
        "id": "o87cUx6Wf242"
      },
      "source": [
        "#Which city has the highest pressure?"
      ]
    },
    {
      "cell_type": "code",
      "execution_count": null,
      "metadata": {
        "colab": {
          "base_uri": "https://localhost:8080/"
        },
        "id": "F7voyOWWf4gF",
        "outputId": "b44458fa-fe27-462e-ab78-bef1407f784d"
      },
      "outputs": [
        {
          "name": "stdout",
          "output_type": "stream",
          "text": [
            "The city with the highest pressure is: Mumbai\n"
          ]
        }
      ],
      "source": [
        "df = pd.read_csv('weather_data.csv')\n",
        "df['main'] = df['main'].apply(ast.literal_eval)\n",
        "df['pressure'] = df['main'].apply(lambda x: x['pressure'])\n",
        "max_pressure_city = df.loc[df['pressure'].idxmax()]['name']\n",
        "print(f'The city with the highest pressure is: {max_pressure_city}')"
      ]
    },
    {
      "cell_type": "markdown",
      "metadata": {
        "id": "ue8GDQIIiLfe"
      },
      "source": [
        "![download.png](data:image/png;base64,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)"
      ]
    }
  ],
  "metadata": {
    "colab": {
      "provenance": []
    },
    "kernelspec": {
      "display_name": "Python 3",
      "name": "python3"
    },
    "language_info": {
      "name": "python"
    }
  },
  "nbformat": 4,
  "nbformat_minor": 0
}
